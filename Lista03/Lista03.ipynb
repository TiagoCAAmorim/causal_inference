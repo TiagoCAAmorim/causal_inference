{
 "cells": [
  {
   "cell_type": "markdown",
   "metadata": {},
   "source": [
    "# Lista 03"
   ]
  },
  {
   "cell_type": "code",
   "execution_count": 30,
   "metadata": {},
   "outputs": [],
   "source": [
    "import pandas as pd\n",
    "import numpy as np\n",
    "import random\n",
    "from scipy.stats import norm\n",
    "import statsmodels.api as sm\n",
    "from itertools import combinations"
   ]
  },
  {
   "cell_type": "code",
   "execution_count": 6,
   "metadata": {},
   "outputs": [],
   "source": [
    "random.seed(42)"
   ]
  },
  {
   "cell_type": "markdown",
   "metadata": {},
   "source": [
    "### Ex.02\n",
    "\n",
    "Um experimento foi conduzido para estudar a eficiencia de um medicamento para tratar a hiperplasia prostática benigna. Em cada centro, pacientes foram atribuidos aleatoriamente em três grupos: controle, finasterida 1mg e finasterida 5mg. O conjunto de dados multicenter.csv ([disponível aqui](https://dataverse.harvard.edu/file.xhtml?fileId=7440246&version=4.0)) fornece, para cada centro, algumas estatísticas resumo para a pontuação dos sintomas (_Y_). Esta pontuação é a soma das respostas\n",
    "a nove questões (0–4) sobre diversos sintomas. Os resultados das colunas são:\n",
    "\n",
    "* **center**: ID dos centros,\n",
    "* **n0**, **n1**, **n5**: tamanho da amostra em cada um dos grupos (controle, finasterida 1mg e finasterida 5mg).\n",
    "* **mean0**, **mean1**, **mean5**: média dos resultados em cada um dos grupos (controle, finasterida 1mg e finasterida 5mg).\n",
    "* **sd0**, **sd1**, **sd5**: desvio padrão dos resultados em cada um dos grupos (controle, finasterida 1mg e finasterida 5mg).\n",
    "\n",
    "Estabeleça as hipóteses apropriadas e faça o teste correspondente, separadamente, para finasterida 1mg vs control e finasterida 5mg vs control. Considere cada centro como um estrato.\n"
   ]
  },
  {
   "cell_type": "code",
   "execution_count": 7,
   "metadata": {},
   "outputs": [
    {
     "name": "stdout",
     "output_type": "stream",
     "text": [
      "Number of entries: 29\n"
     ]
    },
    {
     "data": {
      "text/html": [
       "<div>\n",
       "<style scoped>\n",
       "    .dataframe tbody tr th:only-of-type {\n",
       "        vertical-align: middle;\n",
       "    }\n",
       "\n",
       "    .dataframe tbody tr th {\n",
       "        vertical-align: top;\n",
       "    }\n",
       "\n",
       "    .dataframe thead th {\n",
       "        text-align: right;\n",
       "    }\n",
       "</style>\n",
       "<table border=\"1\" class=\"dataframe\">\n",
       "  <thead>\n",
       "    <tr style=\"text-align: right;\">\n",
       "      <th></th>\n",
       "      <th>center</th>\n",
       "      <th>n0</th>\n",
       "      <th>mean0</th>\n",
       "      <th>sd0</th>\n",
       "      <th>n1</th>\n",
       "      <th>mean1</th>\n",
       "      <th>sd1</th>\n",
       "      <th>n5</th>\n",
       "      <th>mean5</th>\n",
       "      <th>sd5</th>\n",
       "    </tr>\n",
       "  </thead>\n",
       "  <tbody>\n",
       "    <tr>\n",
       "      <th>0</th>\n",
       "      <td>1</td>\n",
       "      <td>7</td>\n",
       "      <td>0.43</td>\n",
       "      <td>4.58</td>\n",
       "      <td>7</td>\n",
       "      <td>-5.43</td>\n",
       "      <td>5.53</td>\n",
       "      <td>8</td>\n",
       "      <td>-2.63</td>\n",
       "      <td>3.38</td>\n",
       "    </tr>\n",
       "    <tr>\n",
       "      <th>1</th>\n",
       "      <td>2</td>\n",
       "      <td>11</td>\n",
       "      <td>0.10</td>\n",
       "      <td>4.21</td>\n",
       "      <td>11</td>\n",
       "      <td>-2.59</td>\n",
       "      <td>3.95</td>\n",
       "      <td>12</td>\n",
       "      <td>-2.21</td>\n",
       "      <td>4.14</td>\n",
       "    </tr>\n",
       "    <tr>\n",
       "      <th>2</th>\n",
       "      <td>3</td>\n",
       "      <td>6</td>\n",
       "      <td>2.58</td>\n",
       "      <td>4.80</td>\n",
       "      <td>6</td>\n",
       "      <td>-3.94</td>\n",
       "      <td>4.25</td>\n",
       "      <td>7</td>\n",
       "      <td>1.29</td>\n",
       "      <td>7.39</td>\n",
       "    </tr>\n",
       "    <tr>\n",
       "      <th>3</th>\n",
       "      <td>4</td>\n",
       "      <td>10</td>\n",
       "      <td>-2.30</td>\n",
       "      <td>3.86</td>\n",
       "      <td>10</td>\n",
       "      <td>-1.23</td>\n",
       "      <td>5.17</td>\n",
       "      <td>10</td>\n",
       "      <td>-1.40</td>\n",
       "      <td>2.27</td>\n",
       "    </tr>\n",
       "    <tr>\n",
       "      <th>4</th>\n",
       "      <td>5</td>\n",
       "      <td>10</td>\n",
       "      <td>2.08</td>\n",
       "      <td>6.46</td>\n",
       "      <td>10</td>\n",
       "      <td>-6.70</td>\n",
       "      <td>7.45</td>\n",
       "      <td>10</td>\n",
       "      <td>-5.13</td>\n",
       "      <td>3.91</td>\n",
       "    </tr>\n",
       "  </tbody>\n",
       "</table>\n",
       "</div>"
      ],
      "text/plain": [
       "   center  n0  mean0   sd0  n1  mean1   sd1  n5  mean5   sd5\n",
       "0       1   7   0.43  4.58   7  -5.43  5.53   8  -2.63  3.38\n",
       "1       2  11   0.10  4.21  11  -2.59  3.95  12  -2.21  4.14\n",
       "2       3   6   2.58  4.80   6  -3.94  4.25   7   1.29  7.39\n",
       "3       4  10  -2.30  3.86  10  -1.23  5.17  10  -1.40  2.27\n",
       "4       5  10   2.08  6.46  10  -6.70  7.45  10  -5.13  3.91"
      ]
     },
     "execution_count": 7,
     "metadata": {},
     "output_type": "execute_result"
    }
   ],
   "source": [
    "multicenter = pd.read_csv(r\".\\multicenter.csv\", sep=r\"\\s+|;|:|,\", engine=\"python\")\n",
    "print(f\"Number of entries: {len(multicenter)}\")\n",
    "multicenter.head()"
   ]
  },
  {
   "cell_type": "code",
   "execution_count": 8,
   "metadata": {},
   "outputs": [
    {
     "data": {
      "text/plain": [
       "<Axes: >"
      ]
     },
     "execution_count": 8,
     "metadata": {},
     "output_type": "execute_result"
    },
    {
     "data": {
      "image/png": "[encoded data removed]",
      "text/plain": [
       "<Figure size 640x480 with 1 Axes>"
      ]
     },
     "metadata": {},
     "output_type": "display_data"
    }
   ],
   "source": [
    "multicenter[[\"mean0\", \"mean1\", \"mean5\"]].plot.bar()"
   ]
  },
  {
   "cell_type": "code",
   "execution_count": 9,
   "metadata": {},
   "outputs": [],
   "source": [
    "def run_neyman_multicenter(n_k_1, y_k_1_mean, sd_k_1, n_k_0, y_k_0_mean, sd_k_0):\n",
    "    n_k = [nk1 + nk0 for (nk1, nk0) in zip(n_k_1, n_k_0)]\n",
    "    n = sum(n_k)\n",
    "    pi_k = [nk / n for nk in n_k]\n",
    "\n",
    "    tau_hat_k = [yk1 - yk0 for (yk1, yk0) in zip(y_k_1_mean, y_k_0_mean)]\n",
    "    tau_hat_s = sum([pik * tau_k for (pik, tau_k) in zip(pi_k, tau_hat_k)])\n",
    "\n",
    "    var_hat_k = [\n",
    "        sdk1**2 / nk1 + sdk0**2 / nk0\n",
    "        for (sdk1, nk1, sdk0, nk0) in zip(sd_k_1, n_k_1, sd_k_0, n_k_0)\n",
    "    ]\n",
    "    var_hat_s = sum([pik**2 * var_hat for (pik, var_hat) in zip(pi_k, var_hat_k)])\n",
    "\n",
    "    interval_lower = tau_hat_s - norm.ppf(0.975) * np.sqrt(var_hat_s)\n",
    "    interval_upper = tau_hat_s + norm.ppf(0.975) * np.sqrt(var_hat_s)\n",
    "\n",
    "    t_s = tau_hat_s / np.sqrt(var_hat_s)\n",
    "    print(f\"  tau_hat_s: {tau_hat_s:.2f}\")\n",
    "    print(f\"  var_hat_s^1/2: {np.sqrt(var_hat_s):.2f}\")\n",
    "    print(f\"  95% confidence interval: [{interval_lower:0.2f},{interval_upper:0.2f}]\")\n",
    "    print(f\"  p-value: {norm.cdf(t_s):.4f}\")"
   ]
  },
  {
   "cell_type": "code",
   "execution_count": 10,
   "metadata": {},
   "outputs": [
    {
     "name": "stdout",
     "output_type": "stream",
     "text": [
      "finasterida 1mg\n",
      "  tau_hat_s: -0.66\n",
      "  var_hat_s^1/2: 0.41\n",
      "  95% confidence interval: [-1.47,0.15]\n",
      "  p-value: 0.0562\n",
      "finasterida 5mg\n",
      "  tau_hat_s: -1.64\n",
      "  var_hat_s^1/2: 0.40\n",
      "  95% confidence interval: [-2.43,-0.86]\n",
      "  p-value: 0.0000\n"
     ]
    }
   ],
   "source": [
    "# Results\n",
    "print(\"finasterida 1mg\")\n",
    "\n",
    "run_neyman_multicenter(\n",
    "    n_k_1=multicenter[\"n1\"],\n",
    "    y_k_1_mean=multicenter[\"mean1\"],\n",
    "    sd_k_1=multicenter[\"sd1\"],\n",
    "    n_k_0=multicenter[\"n0\"],\n",
    "    y_k_0_mean=multicenter[\"mean0\"],\n",
    "    sd_k_0=multicenter[\"sd0\"],\n",
    ")\n",
    "\n",
    "\n",
    "print(\"finasterida 5mg\")\n",
    "\n",
    "run_neyman_multicenter(\n",
    "    n_k_1=multicenter[\"n5\"],\n",
    "    y_k_1_mean=multicenter[\"mean5\"],\n",
    "    sd_k_1=multicenter[\"sd5\"],\n",
    "    n_k_0=multicenter[\"n0\"],\n",
    "    y_k_0_mean=multicenter[\"mean0\"],\n",
    "    sd_k_0=multicenter[\"sd0\"],\n",
    ")"
   ]
  },
  {
   "cell_type": "markdown",
   "metadata": {},
   "source": [
    "### Ex.03\n",
    "\n",
    "Reanalize o dataset lalonde sob a perspective de Fisher e de Neyman.\n",
    "\n",
    "* Considere **race** (**black**, **hisp**, **other**) como estrato.\n",
    "* Considere **marital status** (**married**) como estrato.\n",
    "* Considere o **high school diploma** (**nodegr**) como estrato.\n",
    "* Discuta os resultados e compare com os obtidos sob CRE."
   ]
  },
  {
   "cell_type": "code",
   "execution_count": 11,
   "metadata": {},
   "outputs": [
    {
     "name": "stdout",
     "output_type": "stream",
     "text": [
      "Number of entries: 445\n"
     ]
    },
    {
     "data": {
      "text/html": [
       "<div>\n",
       "<style scoped>\n",
       "    .dataframe tbody tr th:only-of-type {\n",
       "        vertical-align: middle;\n",
       "    }\n",
       "\n",
       "    .dataframe tbody tr th {\n",
       "        vertical-align: top;\n",
       "    }\n",
       "\n",
       "    .dataframe thead th {\n",
       "        text-align: right;\n",
       "    }\n",
       "</style>\n",
       "<table border=\"1\" class=\"dataframe\">\n",
       "  <thead>\n",
       "    <tr style=\"text-align: right;\">\n",
       "      <th></th>\n",
       "      <th>age</th>\n",
       "      <th>educ</th>\n",
       "      <th>black</th>\n",
       "      <th>hisp</th>\n",
       "      <th>married</th>\n",
       "      <th>nodegr</th>\n",
       "      <th>re74</th>\n",
       "      <th>re75</th>\n",
       "      <th>re78</th>\n",
       "      <th>u74</th>\n",
       "      <th>u75</th>\n",
       "      <th>treat</th>\n",
       "    </tr>\n",
       "  </thead>\n",
       "  <tbody>\n",
       "    <tr>\n",
       "      <th>0</th>\n",
       "      <td>37</td>\n",
       "      <td>11</td>\n",
       "      <td>1</td>\n",
       "      <td>0</td>\n",
       "      <td>1</td>\n",
       "      <td>1</td>\n",
       "      <td>0.0</td>\n",
       "      <td>0.0</td>\n",
       "      <td>9930.05</td>\n",
       "      <td>1</td>\n",
       "      <td>1</td>\n",
       "      <td>1</td>\n",
       "    </tr>\n",
       "    <tr>\n",
       "      <th>1</th>\n",
       "      <td>22</td>\n",
       "      <td>9</td>\n",
       "      <td>0</td>\n",
       "      <td>1</td>\n",
       "      <td>0</td>\n",
       "      <td>1</td>\n",
       "      <td>0.0</td>\n",
       "      <td>0.0</td>\n",
       "      <td>3595.89</td>\n",
       "      <td>1</td>\n",
       "      <td>1</td>\n",
       "      <td>1</td>\n",
       "    </tr>\n",
       "    <tr>\n",
       "      <th>2</th>\n",
       "      <td>30</td>\n",
       "      <td>12</td>\n",
       "      <td>1</td>\n",
       "      <td>0</td>\n",
       "      <td>0</td>\n",
       "      <td>0</td>\n",
       "      <td>0.0</td>\n",
       "      <td>0.0</td>\n",
       "      <td>24909.50</td>\n",
       "      <td>1</td>\n",
       "      <td>1</td>\n",
       "      <td>1</td>\n",
       "    </tr>\n",
       "    <tr>\n",
       "      <th>3</th>\n",
       "      <td>27</td>\n",
       "      <td>11</td>\n",
       "      <td>1</td>\n",
       "      <td>0</td>\n",
       "      <td>0</td>\n",
       "      <td>1</td>\n",
       "      <td>0.0</td>\n",
       "      <td>0.0</td>\n",
       "      <td>7506.15</td>\n",
       "      <td>1</td>\n",
       "      <td>1</td>\n",
       "      <td>1</td>\n",
       "    </tr>\n",
       "    <tr>\n",
       "      <th>4</th>\n",
       "      <td>33</td>\n",
       "      <td>8</td>\n",
       "      <td>1</td>\n",
       "      <td>0</td>\n",
       "      <td>0</td>\n",
       "      <td>1</td>\n",
       "      <td>0.0</td>\n",
       "      <td>0.0</td>\n",
       "      <td>289.79</td>\n",
       "      <td>1</td>\n",
       "      <td>1</td>\n",
       "      <td>1</td>\n",
       "    </tr>\n",
       "  </tbody>\n",
       "</table>\n",
       "</div>"
      ],
      "text/plain": [
       "   age  educ  black  hisp  married  nodegr  re74  re75      re78  u74  u75  \\\n",
       "0   37    11      1     0        1       1   0.0   0.0   9930.05    1    1   \n",
       "1   22     9      0     1        0       1   0.0   0.0   3595.89    1    1   \n",
       "2   30    12      1     0        0       0   0.0   0.0  24909.50    1    1   \n",
       "3   27    11      1     0        0       1   0.0   0.0   7506.15    1    1   \n",
       "4   33     8      1     0        0       1   0.0   0.0    289.79    1    1   \n",
       "\n",
       "   treat  \n",
       "0      1  \n",
       "1      1  \n",
       "2      1  \n",
       "3      1  \n",
       "4      1  "
      ]
     },
     "execution_count": 11,
     "metadata": {},
     "output_type": "execute_result"
    }
   ],
   "source": [
    "lalonde = pd.read_csv(r\".\\lalonde.csv\", sep=r\"\\s+|;|:|,\", engine=\"python\")\n",
    "print(f\"Number of entries: {len(lalonde)}\")\n",
    "lalonde.head()"
   ]
  },
  {
   "cell_type": "code",
   "execution_count": 12,
   "metadata": {},
   "outputs": [],
   "source": [
    "lalonde[\"race\"] = np.where(\n",
    "    lalonde[\"black\"] == 1, 0, np.where(lalonde[\"hisp\"] == 1, 1, 2)\n",
    ")"
   ]
  },
  {
   "cell_type": "code",
   "execution_count": 13,
   "metadata": {},
   "outputs": [],
   "source": [
    "def get_z_random(z, x):\n",
    "    z_random = z.copy()\n",
    "    for k in x.unique():\n",
    "        z_k = z_random[x == k].sample(n=len(z_random[x == k]))\n",
    "        z_random[x == k] = z_k.values\n",
    "    return z_random\n",
    "\n",
    "\n",
    "def get_tau_hat(y1, y0):\n",
    "    return y1.sum() / len(y1) - y0.sum() / len(y0)\n",
    "\n",
    "\n",
    "def get_tau_hat_s(y, z, x):\n",
    "    tau_hat_s = 0\n",
    "    for k in x.unique():\n",
    "        pi_k = len(x[x == k]) / len(x)\n",
    "        y_k = y[x == k]\n",
    "        z_k = z[x == k]\n",
    "        tau_hat_k = get_tau_hat(y_k[z_k == 1], y_k[z_k == 0])\n",
    "        tau_hat_s += pi_k * tau_hat_k\n",
    "    return tau_hat_s\n",
    "\n",
    "\n",
    "def get_var_hat(y1, y0):\n",
    "    s2_hat_1 = np.var(y1, ddof=1)\n",
    "    s2_hat_0 = np.var(y0, ddof=1)\n",
    "    return s2_hat_1 / len(y1) - s2_hat_0 / len(y0)\n",
    "\n",
    "\n",
    "def get_var_hat_s(y, z, x):\n",
    "    var_hat_s = 0\n",
    "    for k in x.unique():\n",
    "        pi_k = len(x[x == k]) / len(x)\n",
    "        y_k = y[x == k]\n",
    "        z_k = z[x == k]\n",
    "        var_hat_k = get_var_hat(y_k[z_k == 1], y_k[z_k == 0])\n",
    "        var_hat_s += pi_k**2 * var_hat_k\n",
    "    return var_hat_s\n",
    "\n",
    "\n",
    "def describe_classes(z, x):\n",
    "    for k in x.unique():\n",
    "        zk = z[x == k]\n",
    "        print(\n",
    "            f\"   Class {k}: nk = {len(zk)},  nk1 = {len(zk[zk==1])},  nk0 = {len(zk[zk==0])}\"\n",
    "        )"
   ]
  },
  {
   "cell_type": "code",
   "execution_count": 14,
   "metadata": {},
   "outputs": [],
   "source": [
    "def run_frt(y, z, x, mc=10000):\n",
    "    tau_hat = get_tau_hat_s(y, z, x)\n",
    "    tau_hat_list = []\n",
    "    for _ in range(mc):\n",
    "        z_random = get_z_random(z, x)\n",
    "        tau_hat_list.append(get_tau_hat_s(y, z_random, x))\n",
    "    p_value = sum([1 for t in tau_hat_list if abs(tau_hat) < abs(t)]) / mc\n",
    "    print(f\"   FRT: p-value = {p_value:0.4f}\")"
   ]
  },
  {
   "cell_type": "code",
   "execution_count": 15,
   "metadata": {},
   "outputs": [],
   "source": [
    "def run_ney(y, z, x, negative_effect=False):\n",
    "    tau_hat = get_tau_hat_s(y, z, x)\n",
    "    print(f\"   tau_hat = {tau_hat:0.2f}\")\n",
    "    var_hat = get_var_hat_s(y, z, x)\n",
    "    print(f\"   var_hat^1/2 = {np.sqrt(var_hat):0.2f}\")\n",
    "\n",
    "    interval_lower = tau_hat - norm.ppf(0.975) * np.sqrt(var_hat)\n",
    "    interval_upper = tau_hat + norm.ppf(0.975) * np.sqrt(var_hat)\n",
    "    print(f\"   95% confidence interval: [{interval_lower:0.2f},{interval_upper:0.2f}]\")\n",
    "\n",
    "    if negative_effect:\n",
    "        p_value = 2 * norm.cdf(tau_hat / np.sqrt(var_hat))\n",
    "    else:\n",
    "        p_value = 2 * (1 - norm.cdf(tau_hat / np.sqrt(var_hat)))\n",
    "    print(f\"   NEY: p-value = {p_value:0.4f}\")"
   ]
  },
  {
   "cell_type": "code",
   "execution_count": 16,
   "metadata": {},
   "outputs": [
    {
     "name": "stdout",
     "output_type": "stream",
     "text": [
      "No Stratification\n",
      "   Class 0: nk = 445,  nk1 = 185,  nk0 = 260\n"
     ]
    },
    {
     "name": "stdout",
     "output_type": "stream",
     "text": [
      "   FRT: p-value = 0.0035\n",
      "   tau_hat = 1794.34\n",
      "   var_hat^1/2 = 467.88\n",
      "   95% confidence interval: [877.32,2711.37]\n",
      "   NEY: p-value = 0.0001\n",
      "By Race\n",
      "   Class 0: nk = 371,  nk1 = 156,  nk0 = 215\n",
      "   Class 1: nk = 39,  nk1 = 11,  nk0 = 28\n",
      "   Class 2: nk = 35,  nk1 = 18,  nk0 = 17\n",
      "   FRT: p-value = 0.0041\n",
      "   tau_hat = 1794.97\n",
      "   var_hat^1/2 = 479.80\n",
      "   95% confidence interval: [854.59,2735.35]\n",
      "   NEY: p-value = 0.0002\n",
      "By Marital Status\n",
      "   Class 1: nk = 75,  nk1 = 35,  nk0 = 40\n",
      "   Class 0: nk = 370,  nk1 = 150,  nk0 = 220\n",
      "   FRT: p-value = 0.0054\n",
      "   tau_hat = 1767.18\n",
      "   var_hat^1/2 = 467.83\n",
      "   95% confidence interval: [850.25,2684.10]\n",
      "   NEY: p-value = 0.0002\n",
      "By High School Diploma\n",
      "   Class 1: nk = 348,  nk1 = 131,  nk0 = 217\n",
      "   Class 0: nk = 97,  nk1 = 54,  nk0 = 43\n",
      "   FRT: p-value = 0.0096\n",
      "   tau_hat = 1598.28\n",
      "   var_hat^1/2 = 454.35\n",
      "   95% confidence interval: [707.78,2488.79]\n",
      "   NEY: p-value = 0.0004\n"
     ]
    }
   ],
   "source": [
    "y = lalonde[\"re78\"]\n",
    "z = lalonde[\"treat\"]\n",
    "x = {\n",
    "    \"No Stratification\": pd.Series([0] * len(lalonde)),\n",
    "    \"By Race\": lalonde[\"race\"],\n",
    "    \"By Marital Status\": lalonde[\"married\"],\n",
    "    \"By High School Diploma\": lalonde[\"nodegr\"],\n",
    "}\n",
    "\n",
    "for k, x in x.items():\n",
    "    print(k)\n",
    "    describe_classes(z, x)\n",
    "    run_frt(y, z, x, 10000)\n",
    "    run_ney(y, z, x)"
   ]
  },
  {
   "cell_type": "markdown",
   "metadata": {},
   "source": [
    "### Ex.04\n",
    "\n",
    "Assuma que randomizamos Z = (𝑍1, ⋯ , 𝑍𝑛) segundo um CRE e aceitamos este se e somente se 𝜙(Z, X) = 1 (em que 𝜙(⋅) é um criterio de balanceamento pre-estabelecido):\n",
    "\n",
    "1. Mostre que se 𝑛1 = 𝑛0 e 𝜙(Z, X) = 𝜙(1𝑛 − Z, X) então $\\hat{\\tau{}}$ é não viesado para $\\tau{}$.\n",
    "1. Verifique que rerandomização utilizando a distância de Mahalanobis satisfaz 𝜙(Z, X) = 𝜙(1𝑛 − Z, X) se 𝑛1 = 𝑛0.\n",
    "1. Dê um contraexemplo que ilustre que $\\hat{\\tau{}}$ é viesado para $\\tau{}$ quando as condições acima não são satisfeitas"
   ]
  },
  {
   "cell_type": "code",
   "execution_count": 17,
   "metadata": {},
   "outputs": [],
   "source": [
    "def get_all_combinations(n):\n",
    "    combinations_list = [()]\n",
    "    for i in range(1, n + 1):\n",
    "        combinations_i = list(combinations(range(1, n + 1), i))\n",
    "        combinations_list.extend(combinations_i)\n",
    "    return combinations_list"
   ]
  },
  {
   "cell_type": "code",
   "execution_count": 18,
   "metadata": {},
   "outputs": [],
   "source": [
    "y1 = pd.Series([1, 1, 0])\n",
    "y0 = pd.Series([0, 0, 1])\n",
    "x = pd.Series([0, 1, 2])"
   ]
  },
  {
   "cell_type": "code",
   "execution_count": 19,
   "metadata": {},
   "outputs": [
    {
     "name": "stdout",
     "output_type": "stream",
     "text": [
      "tau = 0.3333333333333333\n"
     ]
    }
   ],
   "source": [
    "tau = y1.sum() / len(y1) - y0.sum() / len(y0)\n",
    "print(f\"tau = {tau}\")"
   ]
  },
  {
   "cell_type": "code",
   "execution_count": 20,
   "metadata": {},
   "outputs": [],
   "source": [
    "def phi(x, z):\n",
    "    x1 = x[z == 1]\n",
    "    x0 = x[z == 0]\n",
    "    if len(x1) * len(x0) == 0:\n",
    "        return False\n",
    "    return (x1.sum() / len(x1) - x0.sum() / len(x0)) == 0"
   ]
  },
  {
   "cell_type": "code",
   "execution_count": 21,
   "metadata": {},
   "outputs": [
    {
     "name": "stdout",
     "output_type": "stream",
     "text": [
      "0.5\n"
     ]
    }
   ],
   "source": [
    "tau_hat_s = []\n",
    "for z in get_all_combinations(len(x)):\n",
    "    zr = [0] * len(x)\n",
    "    for i in z:\n",
    "        zr[i - 1] = 1\n",
    "    zr = pd.Series(zr)\n",
    "    if phi(x, zr):\n",
    "        y = y1.copy()\n",
    "        y[zr == 0] = y0[zr == 0]\n",
    "        # print(y)\n",
    "        # print(x)\n",
    "        x0 = pd.Series([0] * len(x))\n",
    "        tau_hat_s.append(get_tau_hat_s(y, zr, x0))\n",
    "print(np.mean(tau_hat_s))"
   ]
  },
  {
   "cell_type": "markdown",
   "metadata": {},
   "source": [
    "### Ex.06\n",
    "\n",
    "Reanalize o dataset Penn46_ascii.txt ([disponível aqui](https://dataverse.harvard.edu/file.xhtml?fileId=7440282&version=4.0)). O conjunto de dados já foi analisado na [aula 5](https://ctruciosm.github.io/MI628-unicamp/MI628_Aula04#/frt-sob-sre-aplicação) e consideramos treatment como indicador de tratamento (Z), log(_duration_) como resultado observado e quartes como variável estratificadora. Agora, queremos incluir todas as outras covariáveis na análise.\n",
    "\n",
    "1. Realize ajustes por regressão dentro dos estratos do experimento e, em seguida, combine esses estimadores ajustados para estimar o efeito causal médio.\n",
    "1. Reporte o estimador pontual, o erro padrão estimado e o intervalo de confiança de 95%.\n",
    "1. Compare os resultados obtidos com aqueles sem ajuste por regressão.\n"
   ]
  },
  {
   "cell_type": "markdown",
   "metadata": {},
   "source": [
    "[Colunas](http://www.econ.uiuc.edu/~roger/research/inference/khmal6.pdf):\n",
    "\n",
    "* Indicator for the treatment group.\n",
    "* Indicators for female, black and hispanic respondents.\n",
    "* Number of dependents, with 2 indicating two or more dependents.\n",
    "* Indicators for the 5 quarters of entry to the experiment.\n",
    "* Indicator for whether the claimant _expected_ to be recalled\" to a previous job.\n",
    "* Indicators for whether the respondent was _young_ (less than 35), or _old_ (indicating age greater than 54).\n",
    "* Indicator for whether claimant was employed in the durable goods industry.\n",
    "* Indicator for whether the claimant was registered in one of the low unemployment short unemployment duration districts: Coatesville, Reading, or Lancaster."
   ]
  },
  {
   "cell_type": "code",
   "execution_count": 22,
   "metadata": {},
   "outputs": [
    {
     "name": "stdout",
     "output_type": "stream",
     "text": [
      "Number of entries: 6384\n"
     ]
    },
    {
     "data": {
      "text/html": [
       "<div>\n",
       "<style scoped>\n",
       "    .dataframe tbody tr th:only-of-type {\n",
       "        vertical-align: middle;\n",
       "    }\n",
       "\n",
       "    .dataframe tbody tr th {\n",
       "        vertical-align: top;\n",
       "    }\n",
       "\n",
       "    .dataframe thead th {\n",
       "        text-align: right;\n",
       "    }\n",
       "</style>\n",
       "<table border=\"1\" class=\"dataframe\">\n",
       "  <thead>\n",
       "    <tr style=\"text-align: right;\">\n",
       "      <th></th>\n",
       "      <th>index</th>\n",
       "      <th>duration</th>\n",
       "      <th>treatment</th>\n",
       "      <th>female</th>\n",
       "      <th>black</th>\n",
       "      <th>hispanic</th>\n",
       "      <th>ndependents</th>\n",
       "      <th>recall</th>\n",
       "      <th>young</th>\n",
       "      <th>old</th>\n",
       "      <th>quarter</th>\n",
       "      <th>durable</th>\n",
       "      <th>lusd</th>\n",
       "    </tr>\n",
       "  </thead>\n",
       "  <tbody>\n",
       "    <tr>\n",
       "      <th>0</th>\n",
       "      <td>1</td>\n",
       "      <td>18.011343</td>\n",
       "      <td>0</td>\n",
       "      <td>0</td>\n",
       "      <td>0</td>\n",
       "      <td>0</td>\n",
       "      <td>2</td>\n",
       "      <td>0</td>\n",
       "      <td>0</td>\n",
       "      <td>0</td>\n",
       "      <td>5</td>\n",
       "      <td>0</td>\n",
       "      <td>0</td>\n",
       "    </tr>\n",
       "    <tr>\n",
       "      <th>1</th>\n",
       "      <td>4</td>\n",
       "      <td>1.003399</td>\n",
       "      <td>0</td>\n",
       "      <td>0</td>\n",
       "      <td>0</td>\n",
       "      <td>0</td>\n",
       "      <td>0</td>\n",
       "      <td>0</td>\n",
       "      <td>0</td>\n",
       "      <td>0</td>\n",
       "      <td>5</td>\n",
       "      <td>0</td>\n",
       "      <td>1</td>\n",
       "    </tr>\n",
       "    <tr>\n",
       "      <th>2</th>\n",
       "      <td>5</td>\n",
       "      <td>26.960396</td>\n",
       "      <td>0</td>\n",
       "      <td>0</td>\n",
       "      <td>0</td>\n",
       "      <td>0</td>\n",
       "      <td>0</td>\n",
       "      <td>0</td>\n",
       "      <td>0</td>\n",
       "      <td>0</td>\n",
       "      <td>4</td>\n",
       "      <td>0</td>\n",
       "      <td>1</td>\n",
       "    </tr>\n",
       "    <tr>\n",
       "      <th>3</th>\n",
       "      <td>6</td>\n",
       "      <td>7.009044</td>\n",
       "      <td>1</td>\n",
       "      <td>0</td>\n",
       "      <td>0</td>\n",
       "      <td>0</td>\n",
       "      <td>0</td>\n",
       "      <td>0</td>\n",
       "      <td>0</td>\n",
       "      <td>0</td>\n",
       "      <td>2</td>\n",
       "      <td>0</td>\n",
       "      <td>0</td>\n",
       "    </tr>\n",
       "    <tr>\n",
       "      <th>4</th>\n",
       "      <td>12</td>\n",
       "      <td>9.022409</td>\n",
       "      <td>1</td>\n",
       "      <td>0</td>\n",
       "      <td>0</td>\n",
       "      <td>0</td>\n",
       "      <td>0</td>\n",
       "      <td>0</td>\n",
       "      <td>1</td>\n",
       "      <td>0</td>\n",
       "      <td>3</td>\n",
       "      <td>0</td>\n",
       "      <td>0</td>\n",
       "    </tr>\n",
       "  </tbody>\n",
       "</table>\n",
       "</div>"
      ],
      "text/plain": [
       "   index   duration  treatment  female  black  hispanic  ndependents  recall  \\\n",
       "0      1  18.011343          0       0      0         0            2       0   \n",
       "1      4   1.003399          0       0      0         0            0       0   \n",
       "2      5  26.960396          0       0      0         0            0       0   \n",
       "3      6   7.009044          1       0      0         0            0       0   \n",
       "4     12   9.022409          1       0      0         0            0       0   \n",
       "\n",
       "   young  old  quarter  durable  lusd  \n",
       "0      0    0        5        0     0  \n",
       "1      0    0        5        0     1  \n",
       "2      0    0        4        0     1  \n",
       "3      0    0        2        0     0  \n",
       "4      1    0        3        0     0  "
      ]
     },
     "execution_count": 22,
     "metadata": {},
     "output_type": "execute_result"
    }
   ],
   "source": [
    "penn = pd.read_csv(r\".\\Penn46_ascii.txt\", sep=r\"\\s+|;|:|,\", engine=\"python\")\n",
    "print(f\"Number of entries: {len(penn)}\")\n",
    "penn.reset_index(inplace=True)\n",
    "penn.head()"
   ]
  },
  {
   "cell_type": "code",
   "execution_count": 23,
   "metadata": {},
   "outputs": [],
   "source": [
    "penn[\"y\"] = np.log(penn[\"duration\"])\n",
    "\n",
    "y = penn[\"y\"]\n",
    "z = penn[\"treatment\"]\n",
    "x = penn[\"quarter\"]\n",
    "xi_ = [\n",
    "    \"female\",\n",
    "    \"black\",\n",
    "    \"hispanic\",\n",
    "    \"ndependents\",\n",
    "    \"recall\",\n",
    "    \"young\",\n",
    "    \"old\",\n",
    "    \"durable\",\n",
    "    \"lusd\",\n",
    "]\n",
    "all_columns = [\"treatment\"] + xi_"
   ]
  },
  {
   "cell_type": "code",
   "execution_count": 24,
   "metadata": {},
   "outputs": [
    {
     "name": "stdout",
     "output_type": "stream",
     "text": [
      "No Regression + No Block\n",
      "   tau_hat = -0.08\n",
      "   var_hat^1/2 = 0.01\n",
      "   95% confidence interval: [-0.09,-0.07]\n",
      "   NEY: p-value = 0.0000\n"
     ]
    }
   ],
   "source": [
    "print(\"No Regression + No Block\")\n",
    "run_ney(y, z, pd.Series([0] * len(x)), negative_effect=True)"
   ]
  },
  {
   "cell_type": "code",
   "execution_count": 25,
   "metadata": {},
   "outputs": [
    {
     "name": "stdout",
     "output_type": "stream",
     "text": [
      "No Regression + Block\n",
      "   tau_hat = -0.09\n",
      "   var_hat^1/2 = 0.01\n",
      "   95% confidence interval: [-0.11,-0.07]\n",
      "   NEY: p-value = 0.0000\n"
     ]
    }
   ],
   "source": [
    "print(\"No Regression + Block\")\n",
    "run_ney(y, z, x, negative_effect=True)"
   ]
  },
  {
   "cell_type": "code",
   "execution_count": 26,
   "metadata": {},
   "outputs": [],
   "source": [
    "def do_regression(y, X, negative_effect=False, verbose=False, summary=False):\n",
    "    X_norm = X.copy()\n",
    "    z_name = X_norm.columns[0]\n",
    "    x_names = X_norm.columns[1:]\n",
    "    X_norm[x_names] -= X[x_names].mean()\n",
    "\n",
    "    for xi in x_names:\n",
    "        X_norm[f\"z:{xi}\"] = X_norm[xi] * X_norm[z_name]\n",
    "\n",
    "    model = sm.OLS(y, sm.add_constant((X_norm)))\n",
    "    results = model.fit()\n",
    "\n",
    "    tau_hat = results.params[z_name]\n",
    "    robust_se_ehw = results.get_robustcov_results().bse\n",
    "    var_hat = robust_se_ehw[1] * robust_se_ehw[1]\n",
    "\n",
    "    if verbose:\n",
    "        print(f\"   tau_hat = {tau_hat:0.4f}\")\n",
    "        print(f\"   var_hat^1/2 = {np.sqrt(var_hat):0.4f}\")\n",
    "        interval_lower = tau_hat - norm.ppf(0.975) * np.sqrt(var_hat)\n",
    "        interval_upper = tau_hat + norm.ppf(0.975) * np.sqrt(var_hat)\n",
    "        print(\n",
    "            f\"   95% confidence interval: [{interval_lower:0.4f},{interval_upper:0.4f}]\"\n",
    "        )\n",
    "        if negative_effect:\n",
    "            p_value = 2 * norm.cdf(tau_hat / np.sqrt(var_hat))\n",
    "        else:\n",
    "            p_value = 2 * (1 - norm.cdf(tau_hat / np.sqrt(var_hat)))\n",
    "        print(f\"   NEY: p-value = {p_value:0.4f}\")\n",
    "\n",
    "    if summary:\n",
    "        print(results.summary())\n",
    "    return tau_hat, var_hat"
   ]
  },
  {
   "cell_type": "code",
   "execution_count": 27,
   "metadata": {},
   "outputs": [
    {
     "name": "stdout",
     "output_type": "stream",
     "text": [
      "Regression + No Block\n"
     ]
    },
    {
     "name": "stdout",
     "output_type": "stream",
     "text": [
      "   tau_hat = -0.0822\n",
      "   var_hat^1/2 = 0.0297\n",
      "   95% confidence interval: [-0.1405,-0.0240]\n",
      "   NEY: p-value = 0.0057\n",
      "                            OLS Regression Results                            \n",
      "==============================================================================\n",
      "Dep. Variable:                      y   R-squared:                       0.041\n",
      "Model:                            OLS   Adj. R-squared:                  0.038\n",
      "Method:                 Least Squares   F-statistic:                     14.24\n",
      "Date:                Wed, 10 Apr 2024   Prob (F-statistic):           2.44e-45\n",
      "Time:                        09:26:00   Log-Likelihood:                -10137.\n",
      "No. Observations:                6384   AIC:                         2.031e+04\n",
      "Df Residuals:                    6364   BIC:                         2.045e+04\n",
      "Df Model:                          19                                         \n",
      "Covariance Type:            nonrobust                                         \n",
      "=================================================================================\n",
      "                    coef    std err          t      P>|t|      [0.025      0.975]\n",
      "---------------------------------------------------------------------------------\n",
      "const             2.0592      0.020    100.454      0.000       2.019       2.099\n",
      "treatment        -0.0822      0.030     -2.763      0.006      -0.141      -0.024\n",
      "female            0.0758      0.042      1.787      0.074      -0.007       0.159\n",
      "black            -0.2734      0.063     -4.314      0.000      -0.398      -0.149\n",
      "hispanic         -0.3651      0.112     -3.266      0.001      -0.584      -0.146\n",
      "ndependents       0.0526      0.028      1.911      0.056      -0.001       0.106\n",
      "recall            0.3783      0.066      5.712      0.000       0.248       0.508\n",
      "young            -0.1666      0.045     -3.719      0.000      -0.254      -0.079\n",
      "old               0.1499      0.072      2.093      0.036       0.010       0.290\n",
      "durable           0.1305      0.059      2.230      0.026       0.016       0.245\n",
      "lusd             -0.1127      0.048     -2.363      0.018      -0.206      -0.019\n",
      "z:female          0.0240      0.062      0.390      0.696      -0.097       0.145\n",
      "z:black           0.0315      0.093      0.338      0.735      -0.151       0.214\n",
      "z:hispanic        0.1636      0.166      0.983      0.325      -0.162       0.490\n",
      "z:ndependents    -0.0230      0.040     -0.579      0.563      -0.101       0.055\n",
      "z:recall          0.0488      0.093      0.526      0.599      -0.133       0.230\n",
      "z:young          -0.0591      0.065     -0.909      0.363      -0.187       0.068\n",
      "z:old             0.1233      0.105      1.169      0.242      -0.083       0.330\n",
      "z:durable         0.0155      0.086      0.180      0.857      -0.153       0.184\n",
      "z:lusd           -0.1265      0.068     -1.853      0.064      -0.260       0.007\n",
      "==============================================================================\n",
      "Omnibus:                     2575.734   Durbin-Watson:                   1.995\n",
      "Prob(Omnibus):                  0.000   Jarque-Bera (JB):              539.850\n",
      "Skew:                          -0.461   Prob(JB):                    5.93e-118\n",
      "Kurtosis:                       1.914   Cond. No.                         14.2\n",
      "==============================================================================\n",
      "\n",
      "Notes:\n",
      "[1] Standard Errors assume that the covariance matrix of the errors is correctly specified.\n"
     ]
    }
   ],
   "source": [
    "print(\"Regression + No Block\")\n",
    "_ = do_regression(\n",
    "    y=penn[\"y\"], X=penn[all_columns], negative_effect=True, verbose=True, summary=True\n",
    ")"
   ]
  },
  {
   "cell_type": "code",
   "execution_count": 28,
   "metadata": {},
   "outputs": [
    {
     "name": "stdout",
     "output_type": "stream",
     "text": [
      "Xi = 0 (5.03%)\n",
      "   tau_hat = 0.0310\n",
      "   var_hat^1/2 = 0.1591\n",
      "   95% confidence interval: [-0.2808,0.3428]\n",
      "   NEY: p-value = 1.1544\n",
      "Xi = 1 (1.39%)\n",
      "   tau_hat = -0.0203\n",
      "   var_hat^1/2 = 0.2677\n",
      "   95% confidence interval: [-0.5451,0.5044]\n",
      "   NEY: p-value = 0.9395\n",
      "Xi = 2 (22.62%)\n",
      "   tau_hat = -0.0924\n",
      "   var_hat^1/2 = 0.0584\n",
      "   95% confidence interval: [-0.2069,0.0221]\n",
      "   NEY: p-value = 0.1136\n",
      "Xi = 3 (26.00%)\n",
      "   tau_hat = -0.1259\n",
      "   var_hat^1/2 = 0.0572\n",
      "   95% confidence interval: [-0.2380,-0.0137]\n",
      "   NEY: p-value = 0.0278\n",
      "Xi = 4 (24.26%)\n",
      "   tau_hat = -0.1081\n",
      "   var_hat^1/2 = 0.0609\n",
      "   95% confidence interval: [-0.2275,0.0113]\n",
      "   NEY: p-value = 0.0759\n",
      "Xi = 5 (20.69%)\n",
      "   tau_hat = -0.0365\n",
      "   var_hat^1/2 = 0.0730\n",
      "   95% confidence interval: [-0.1797,0.1066]\n",
      "   NEY: p-value = 0.6170\n"
     ]
    }
   ],
   "source": [
    "pi_x = []\n",
    "tau_hat_x = []\n",
    "var_hat_x = []\n",
    "\n",
    "x = penn[\"quarter\"]\n",
    "k_ = x.unique()\n",
    "k_.sort()\n",
    "for k in k_:\n",
    "    pi_k = len(x[x == k]) / len(x)\n",
    "    print(f\"Xi = {k} ({pi_k*100:0.2f}%)\")\n",
    "    df = penn[x == k]\n",
    "    tau_hat_k, var_hat_k = do_regression(\n",
    "        y=df[\"y\"], X=df[all_columns], negative_effect=True, verbose=True, summary=False\n",
    "    )\n",
    "\n",
    "    pi_x.append(pi_k)\n",
    "    tau_hat_x.append(tau_hat_k)\n",
    "    var_hat_x.append(var_hat_k)"
   ]
  },
  {
   "cell_type": "code",
   "execution_count": 29,
   "metadata": {},
   "outputs": [
    {
     "name": "stdout",
     "output_type": "stream",
     "text": [
      "With Regression + Block\n",
      "   tau_hat = -0.0861\n",
      "   var_hat^1/2 = 0.0303\n",
      "   95% confidence interval: [-0.1456,-0.0267]\n",
      "   NEY: p-value = 0.0045\n"
     ]
    }
   ],
   "source": [
    "print(\"With Regression + Block\")\n",
    "\n",
    "tau_hat_s = sum([pi * tau_hat for (pi, tau_hat) in zip(pi_x, tau_hat_x)])\n",
    "var_hat_s = sum([pi**2 * var_hat for (pi, var_hat) in zip(pi_x, var_hat_x)])\n",
    "\n",
    "print(f\"   tau_hat = {tau_hat_s:0.4f}\")\n",
    "print(f\"   var_hat^1/2 = {np.sqrt(var_hat_s):0.4f}\")\n",
    "interval_lower = tau_hat_s - norm.ppf(0.975) * np.sqrt(var_hat_s)\n",
    "interval_upper = tau_hat_s + norm.ppf(0.975) * np.sqrt(var_hat_s)\n",
    "print(f\"   95% confidence interval: [{interval_lower:0.4f},{interval_upper:0.4f}]\")\n",
    "p_value = 2 * norm.cdf(tau_hat_s / np.sqrt(var_hat_s))\n",
    "print(f\"   NEY: p-value = {p_value:0.4f}\")"
   ]
  }
 ],
 "metadata": {
  "kernelspec": {
   "display_name": "venv",
   "language": "python",
   "name": "python3"
  },
  "language_info": {
   "codemirror_mode": {
    "name": "ipython",
    "version": 3
   },
   "file_extension": ".py",
   "mimetype": "text/x-python",
   "name": "python",
   "nbconvert_exporter": "python",
   "pygments_lexer": "ipython3",
   "version": "3.12.1"
  }
 },
 "nbformat": 4,
 "nbformat_minor": 2
}
