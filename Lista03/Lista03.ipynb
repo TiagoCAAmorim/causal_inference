{
 "cells": [
  {
   "cell_type": "markdown",
   "metadata": {},
   "source": [
    "# Lista 03"
   ]
  },
  {
   "cell_type": "code",
   "execution_count": 1,
   "metadata": {},
   "outputs": [],
   "source": [
    "import pandas as pd\n",
    "import numpy as np\n",
    "import random\n",
    "import matplotlib.pyplot as plt\n",
    "from scipy.stats import norm\n",
    "from tqdm import tqdm\n",
    "\n",
    "from itertools import combinations"
   ]
  },
  {
   "cell_type": "code",
   "execution_count": 2,
   "metadata": {},
   "outputs": [],
   "source": [
    "random.seed(42)"
   ]
  },
  {
   "cell_type": "markdown",
   "metadata": {},
   "source": [
    "### 2\n",
    "\n",
    "Um experimento foi conduzido para estudar a eficiencia de um medicamento para tratar a hiperplasia prostática benigna. Em cada centro, pacientes foram atribuidos aleatoriamente em três grupos: controle, finasterida 1mg e finasterida 5mg. O conjunto de dados multicenter.csv ([disponível aqui](https://dataverse.harvard.edu/file.xhtml?fileId=7440246&version=4.0)) fornece, para cada centro, algumas estatísticas resumo para a pontuação dos sintomas (_Y_). Esta pontuação é a soma das respostas\n",
    "a nove questões (0–4) sobre diversos sintomas. Os resultados das colunas são:\n",
    "\n",
    "* **center**: ID dos centros,\n",
    "* **n0**, **n1**, **n5**: tamanho da amostra em cada um dos grupos (controle, finasterida 1mg e finasterida 5mg).\n",
    "* **mean0**, **mean1**, **mean5**: média dos resultados em cada um dos grupos (controle, finasterida 1mg e finasterida 5mg).\n",
    "* **sd0**, **sd1**, **sd5**: desvio padrão dos resultados em cada um dos grupos (controle, finasterida 1mg e finasterida 5mg).\n",
    "\n",
    "Estabeleça as hipóteses apropriadas e faça o teste correspondente, separadamente, para finasterida 1mg vs control e finasterida 5mg vs control. Considere cada centro como um estrato.\n"
   ]
  },
  {
   "cell_type": "code",
   "execution_count": null,
   "metadata": {},
   "outputs": [],
   "source": []
  },
  {
   "cell_type": "markdown",
   "metadata": {},
   "source": [
    "### 3\n",
    "\n",
    "Reanalize o dataset lalonde sob a perspective de Fisher e de Neyman.\n",
    "\n",
    "* Considere **race** (**black**, **hisp**, **other**) como estrato.\n",
    "* Considere **marital status** (**married**) como estrato.\n",
    "* Considere o **high school diploma** (**nodegr**) como estrato.\n",
    "* Discuta os resultados e compare com os obtidos sob CRE."
   ]
  },
  {
   "cell_type": "code",
   "execution_count": null,
   "metadata": {},
   "outputs": [],
   "source": []
  },
  {
   "cell_type": "markdown",
   "metadata": {},
   "source": [
    "### 6\n",
    "\n",
    "Reanalize o dataset Penn46_ascii.txt ([disponível aqui](https://dataverse.harvard.edu/file.xhtml?fileId=7440282&version=4.0)). O conjunto de dados já foi analisado na [aula 5](https://ctruciosm.github.io/MI628-unicamp/MI628_Aula04#/frt-sob-sre-aplicação) e consideramos treatment como indicador de tratamento (Z), log(_duration_) como resultado observado e quartes como variável estratificadora. Agora, queremos incluir todas as outras covariáveis na análise.\n",
    "\n",
    "1. Realize ajustes por regressão dentro dos estratos do experimento e, em seguida, combine esses estimadores ajustados para estimar o efeito causal médio.\n",
    "1. Reporte o estimador pontual, o erro padrão estimado e o intervalo de confiança de 95%.\n",
    "1. Compare os resultados obtidos com aqueles sem ajuste por regressão.\n"
   ]
  },
  {
   "cell_type": "code",
   "execution_count": null,
   "metadata": {},
   "outputs": [],
   "source": []
  },
  {
   "cell_type": "code",
   "execution_count": null,
   "metadata": {},
   "outputs": [],
   "source": []
  },
  {
   "cell_type": "code",
   "execution_count": null,
   "metadata": {},
   "outputs": [],
   "source": []
  }
 ],
 "metadata": {
  "kernelspec": {
   "display_name": "venv",
   "language": "python",
   "name": "python3"
  },
  "language_info": {
   "codemirror_mode": {
    "name": "ipython",
    "version": 3
   },
   "file_extension": ".py",
   "mimetype": "text/x-python",
   "name": "python",
   "nbconvert_exporter": "python",
   "pygments_lexer": "ipython3",
   "version": "3.12.1"
  }
 },
 "nbformat": 4,
 "nbformat_minor": 2
}
