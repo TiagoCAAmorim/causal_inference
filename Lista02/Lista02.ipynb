{
 "cells": [
  {
   "cell_type": "markdown",
   "metadata": {},
   "source": [
    "# Lista 02"
   ]
  },
  {
   "cell_type": "code",
   "execution_count": null,
   "metadata": {},
   "outputs": [],
   "source": [
    "import pandas as pd\n",
    "import numpy as np\n",
    "import random\n",
    "import matplotlib.pyplot as plt\n",
    "from scipy.stats import norm"
   ]
  },
  {
   "cell_type": "markdown",
   "metadata": {},
   "source": [
    "3. Utilize o dataset lalonde visto no exemplo da aula 02 e implemente o FRT utilizando a estatística _t_ studentizada e a estatística de soma de postos de Wilcoxon. Compare os _p-valores_ obtidos com suas versões asintóticas."
   ]
  },
  {
   "cell_type": "code",
   "execution_count": 2,
   "metadata": {},
   "outputs": [],
   "source": [
    "def get_lalonde(version='R'):\n",
    "    if version.lower() == 'online':\n",
    "        column_names = ['treat', 'age', 'educ', 'black', 'hispan', 'married', 'nodegree', 're74', 're75', 're78']\n",
    "        df_treated = pd.read_csv(r'..\\Lista01\\nswre74_treated.txt', names=column_names, sep=r\"\\s+|;|:|,\", engine='python')\n",
    "        df_control = pd.read_csv(r'..\\Lista01\\nswre74_control.txt', names=column_names, sep=r\"\\s+|;|:|,\", engine='python')\n",
    "        lalonde = pd.concat ([df_treated, df_control])\n",
    "        lalonde = lalonde.reset_index(drop=True)\n",
    "    elif version.lower() == 'peng':\n",
    "        lalonde = pd.read_csv(r'..\\Lista01\\cps1re74.csv', sep=r\"\\s+|;|:|,\", engine='python')\n",
    "    elif version.lower() == 'r':\n",
    "        lalonde = pd.read_csv(r'.\\R\\Lalonde.csv', sep=r\"\\s+|;|:|,\", engine='python')\n",
    "    else:\n",
    "        raise ValueError(f'{version} is not a valid option.')\n",
    "\n",
    "    lalonde['treat'] = lalonde['treat'].astype(int)\n",
    "    lalonde['u74'] = (lalonde['re74'] == 0).astype(int)\n",
    "    lalonde['u75'] = (lalonde['re75'] == 0).astype(int)\n",
    "\n",
    "    new_column_names = [\"treat\", \"age\", \"educ\", \"black\", \"hispan\", \"married\", \"nodegree\", \"re74\", \"re75\", \"u74\", \"u75\", \"re78\"]\n",
    "    return lalonde.reindex(columns=new_column_names)"
   ]
  },
  {
   "cell_type": "code",
   "execution_count": 3,
   "metadata": {},
   "outputs": [
    {
     "name": "stdout",
     "output_type": "stream",
     "text": [
      "n1 = 185, n0 = 260, n = 445\n"
     ]
    }
   ],
   "source": [
    "lalonde = get_lalonde('r')\n",
    "n1 = lalonde['treat'].sum()\n",
    "n0 = (1-lalonde['treat']).sum()\n",
    "n = n1 + n0\n",
    "print(f'n1 = {n1}, n0 = {n0}, n = {n}')"
   ]
  },
  {
   "cell_type": "code",
   "execution_count": 9,
   "metadata": {},
   "outputs": [],
   "source": [
    "def tau_hat(y1, y0):\n",
    "    return y1.mean() - y0.mean()\n",
    "\n",
    "def tau_hat_normal(y1, y0):\n",
    "    s2 = np.var(np.concatenate((y1,y0)), ddof=1)\n",
    "    alfa = np.sqrt(n/(n1*n0) * s2)\n",
    "    return tau_hat(y1,y0) / alfa\n",
    "\n",
    "def studentized(y1, y0):\n",
    "    s2_1 = np.var(y1, ddof=1)\n",
    "    s2_0 = np.var(y0, ddof=1)\n",
    "    dif_means = tau_hat(y1,y0)\n",
    "    return dif_means / np.sqrt(s2_1 / n1 + s2_0/n0)\n",
    "\n",
    "def wilcoxon(y, z):\n",
    "    r = []\n",
    "    for i in range(len(y)):\n",
    "        r.append((y.values <= y.values[i]).sum())\n",
    "    r_avg_rank = []\n",
    "    for i in range(len(r)):\n",
    "        rep = sum(1 for x in r if x==r[i]) - 1\n",
    "        r_avg_rank.append(r[i] - rep/2)\n",
    "    r = pd.Series(r_avg_rank)\n",
    "    return r.dot(z) - n1*(n+1)/2\n",
    "\n",
    "def wilcoxon_normal(y, z):\n",
    "    w = wilcoxon(y,z)\n",
    "    alfa = n1*n0*(n+1)/12\n",
    "    return w / np.sqrt(alfa)"
   ]
  },
  {
   "cell_type": "code",
   "execution_count": 12,
   "metadata": {},
   "outputs": [
    {
     "name": "stdout",
     "output_type": "stream",
     "text": [
      "y1 mean = 6349.15\n",
      "y0 mean = 4554.80\n",
      "tau_hat = 1794.34\n",
      "tau_hat_normal = 2.8131\n",
      "t_student = 2.6741\n",
      "W = 3352.5\n",
      "W_normal = 2.5073758696334\n"
     ]
    }
   ],
   "source": [
    "y1 = lalonde['re78'][lalonde['treat']==1]\n",
    "y0 = lalonde['re78'][lalonde['treat']==0]\n",
    "\n",
    "print(f'y1 mean = {y1.mean():.2f}')\n",
    "print(f'y0 mean = {y0.mean():.2f}')\n",
    "\n",
    "\n",
    "tau_hat_ = tau_hat(y1,y0)\n",
    "tau_hat_normal_ = tau_hat_normal(y1,y0)\n",
    "t_student_ = studentized(y1,y0)\n",
    "wilcoxon_ = wilcoxon(lalonde['re78'], lalonde['treat'])\n",
    "wilcoxon_normal_ = wilcoxon_normal(lalonde['re78'], lalonde['treat'])\n",
    "\n",
    "print(f'tau_hat = {tau_hat_:.2f}')\n",
    "print(f'tau_hat_normal = {tau_hat_normal_:.4f}')\n",
    "print(f't_student = {t_student_:.4f}')\n",
    "print(f'W = {wilcoxon_}')\n",
    "print(f'W_normal = {wilcoxon_normal_}')"
   ]
  },
  {
   "cell_type": "code",
   "execution_count": 11,
   "metadata": {},
   "outputs": [
    {
     "data": {
      "image/png": "[encoded data removed]",
      "text/plain": [
       "<Figure size 640x480 with 1 Axes>"
      ]
     },
     "metadata": {},
     "output_type": "display_data"
    }
   ],
   "source": [
    "plt.hist(y1, bins=30, alpha=0.5, label='treat', density=True)\n",
    "plt.hist(y0, bins=30, alpha=0.5, label='control', density=True)\n",
    "plt.xlabel('Earnings in 1978')\n",
    "plt.ylabel('Frequency')\n",
    "plt.title('Lalonde Data')\n",
    "plt.legend()\n",
    "plt.show()"
   ]
  },
  {
   "cell_type": "code",
   "execution_count": 22,
   "metadata": {},
   "outputs": [],
   "source": [
    "mc = 10000\n",
    "tau_hat_list = []\n",
    "t_student_list = []\n",
    "wilcoxon_list = []\n",
    "z_random = lalonde['treat'].copy()\n",
    "for i in range(mc):\n",
    "    random.shuffle(z_random)\n",
    "\n",
    "    y1_ = lalonde['re78'][z_random==1]\n",
    "    y0_ = lalonde['re78'][z_random==0]\n",
    "\n",
    "    tau_hat_list.append(tau_hat(y1_,y0_))\n",
    "    t_student_list.append(studentized(y1_,y0_))\n",
    "    wilcoxon_list.append(wilcoxon(lalonde['re78'], z_random))\n",
    "\n",
    "tau_hat_p_value = sum([1 for t in tau_hat_list if tau_hat_ < t]) / mc\n",
    "t_student_p_value = sum([1 for t in t_student_list if t_student_ < t]) / mc\n",
    "wilcoxon_p_value = sum([1 for w in wilcoxon_list if wilcoxon_ < w]) / mc"
   ]
  },
  {
   "cell_type": "code",
   "execution_count": 29,
   "metadata": {},
   "outputs": [
    {
     "name": "stdout",
     "output_type": "stream",
     "text": [
      "MC p-value\n",
      "  tau_hat: 0.0026\n",
      "  t-student: 0.0030\n",
      "  Wilcoxon: 0.0049\n"
     ]
    }
   ],
   "source": [
    "print('MC p-value')\n",
    "print(f'  tau_hat: {tau_hat_p_value:.4f}')\n",
    "print(f'  t-student: {t_student_p_value:.4f}')\n",
    "print(f'  Wilcoxon: {wilcoxon_p_value:.4f}')"
   ]
  },
  {
   "cell_type": "code",
   "execution_count": 31,
   "metadata": {},
   "outputs": [
    {
     "name": "stdout",
     "output_type": "stream",
     "text": [
      "Asymptotic p-value\n",
      "  tau_hat: 0.0025\n",
      "  t-student: 0.0037\n",
      "  Wilcoxon: 0.0061\n"
     ]
    }
   ],
   "source": [
    "print('Asymptotic p-value')\n",
    "print(f'  tau_hat: {1-norm.cdf(tau_hat_normal_):.4f}')\n",
    "print(f'  t-student: {1-norm.cdf(t_student_):.4f}')\n",
    "print(f'  Wilcoxon: {1-norm.cdf(wilcoxon_normal_):.4f}')"
   ]
  },
  {
   "cell_type": "markdown",
   "metadata": {},
   "source": [
    "4. Faça um estudo de simulacão e compare $p_{FRT}$, $\\hat{𝑝}_{𝐹𝑅𝑇}$ e $\\tilde{𝑝}_{𝐹𝑅𝑇} = (1+𝑅)^{−1} \\sum{}^R_{r=1} I(T(z^r,Y) \\geq{} T(Z,Y))$ (utilize diversos valores de 𝑅)."
   ]
  },
  {
   "cell_type": "code",
   "execution_count": 14,
   "metadata": {},
   "outputs": [
    {
     "data": {
      "text/plain": [
       "0      1\n",
       "1      1\n",
       "2      1\n",
       "3      1\n",
       "4      1\n",
       "      ..\n",
       "440    0\n",
       "441    0\n",
       "442    0\n",
       "443    0\n",
       "444    0\n",
       "Name: treat, Length: 445, dtype: int32"
      ]
     },
     "execution_count": 14,
     "metadata": {},
     "output_type": "execute_result"
    }
   ],
   "source": [
    "z_random = lalonde['treat'].copy()\n",
    "z_random"
   ]
  },
  {
   "cell_type": "code",
   "execution_count": 18,
   "metadata": {},
   "outputs": [],
   "source": [
    "random.shuffle(z_random)"
   ]
  },
  {
   "cell_type": "code",
   "execution_count": 19,
   "metadata": {},
   "outputs": [
    {
     "data": {
      "text/plain": [
       "0      0\n",
       "1      0\n",
       "2      1\n",
       "3      0\n",
       "4      0\n",
       "      ..\n",
       "440    1\n",
       "441    0\n",
       "442    0\n",
       "443    1\n",
       "444    0\n",
       "Name: treat, Length: 445, dtype: int32"
      ]
     },
     "execution_count": 19,
     "metadata": {},
     "output_type": "execute_result"
    }
   ],
   "source": [
    "z_random"
   ]
  }
 ],
 "metadata": {
  "kernelspec": {
   "display_name": "venv",
   "language": "python",
   "name": "python3"
  },
  "language_info": {
   "codemirror_mode": {
    "name": "ipython",
    "version": 3
   },
   "file_extension": ".py",
   "mimetype": "text/x-python",
   "name": "python",
   "nbconvert_exporter": "python",
   "pygments_lexer": "ipython3",
   "version": "3.12.1"
  }
 },
 "nbformat": 4,
 "nbformat_minor": 2
}
